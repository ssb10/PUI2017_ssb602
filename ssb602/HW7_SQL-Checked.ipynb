{
 "cells": [
  {
   "cell_type": "code",
   "execution_count": 1,
   "metadata": {},
   "outputs": [
    {
     "ename": "SyntaxError",
     "evalue": "invalid syntax (<ipython-input-1-73256dea51c1>, line 23)",
     "output_type": "error",
     "traceback": [
      "\u001b[0;36m  File \u001b[0;32m\"<ipython-input-1-73256dea51c1>\"\u001b[0;36m, line \u001b[0;32m23\u001b[0m\n\u001b[0;31m    except urllib2.HTTPError, e:\u001b[0m\n\u001b[0m                            ^\u001b[0m\n\u001b[0;31mSyntaxError\u001b[0m\u001b[0;31m:\u001b[0m invalid syntax\n"
     ]
    }
   ],
   "source": [
    "SQL_SOURCE = 'https://ssb602.carto.com/api/v2/sql?q='\n",
    "\n",
    "import urllib2\n",
    "import urllib\n",
    "import StringIO\n",
    "import ast\n",
    "import pandas as pd\n",
    "\n",
    "def queryCartoDB(query, format='CSV', source=SQL_SOURCE):\n",
    "    '''queries carto datasets from a given carto account\n",
    "    Arguments: \n",
    "    query - string: a valid sql query string\n",
    "    format - outlut format  OPTIONAL (default CSV)\n",
    "    source - a valid sql api endpoint OPTIONAL (default carto fb55 account)\n",
    "    Returns:\n",
    "    the return of the sql query AS A STRING\n",
    "    NOTES:\n",
    "    designed for the carto API, tested only with CSV return format'''\n",
    "    \n",
    "    data = urllib.urlencode({'format': format, 'q': query})\n",
    "    try:\n",
    "        response = urllib2.urlopen(source, data)\n",
    "    except urllib2.HTTPError, e:\n",
    "        raise ValueError('\\n'.join(ast.literal_eval(e.readline())['error']))\n",
    "    except Exception:\n",
    "        raise\n",
    "    return response.read()"
   ]
  },
  {
   "cell_type": "code",
   "execution_count": null,
   "metadata": {},
   "outputs": [],
   "source": [
    "test = '''\n",
    "SELECT *\n",
    "FROM citibike\n",
    "'''"
   ]
  },
  {
   "cell_type": "code",
   "execution_count": null,
   "metadata": {},
   "outputs": [],
   "source": [
    "pd.read_csv(StringIO.StringIO(queryCartoDB(test)), sep=',')"
   ]
  },
  {
   "cell_type": "markdown",
   "metadata": {},
   "source": [
    "## Task 1: Familiarize with SQL Clauses"
   ]
  },
  {
   "cell_type": "markdown",
   "metadata": {},
   "source": [
    "### Sort data by start_station_id, tripduration \n",
    "### -Only checking trips with duration <= 3 hours "
   ]
  },
  {
   "cell_type": "code",
   "execution_count": null,
   "metadata": {},
   "outputs": [],
   "source": [
    "test = '''\n",
    "SELECT *\n",
    "FROM citibike\n",
    "WHERE tripduration <= 10800\n",
    "ORDER BY start_station_id, tripduration \n",
    "'''"
   ]
  },
  {
   "cell_type": "code",
   "execution_count": null,
   "metadata": {},
   "outputs": [],
   "source": [
    "sorted_trip_data = pd.read_csv(StringIO.StringIO(queryCartoDB(test)), sep=',')"
   ]
  },
  {
   "cell_type": "code",
   "execution_count": null,
   "metadata": {},
   "outputs": [],
   "source": [
    "sorted_trip_data.head(4)"
   ]
  },
  {
   "cell_type": "markdown",
   "metadata": {},
   "source": [
    "### Only show the top/last 10 records "
   ]
  },
  {
   "cell_type": "code",
   "execution_count": null,
   "metadata": {},
   "outputs": [],
   "source": [
    "test = '''SELECT * from citibike\n",
    "limit 10'''"
   ]
  },
  {
   "cell_type": "code",
   "execution_count": null,
   "metadata": {},
   "outputs": [],
   "source": [
    "pd.read_csv(StringIO.StringIO(queryCartoDB(test)), sep=',')"
   ]
  },
  {
   "cell_type": "markdown",
   "metadata": {},
   "source": [
    "### List all unique start_station_id values"
   ]
  },
  {
   "cell_type": "code",
   "execution_count": null,
   "metadata": {},
   "outputs": [],
   "source": [
    "test = '''select distinct(start_station_id) AS unique_station\n",
    "from citibike'''"
   ]
  },
  {
   "cell_type": "code",
   "execution_count": null,
   "metadata": {},
   "outputs": [],
   "source": [
    "unique_station_id = pd.read_csv(StringIO.StringIO(queryCartoDB(test)), sep=',')"
   ]
  },
  {
   "cell_type": "code",
   "execution_count": null,
   "metadata": {},
   "outputs": [],
   "source": [
    "unique_station_id['unique_station'].head(5)"
   ]
  },
  {
   "cell_type": "markdown",
   "metadata": {},
   "source": [
    "### Count the number of trips"
   ]
  },
  {
   "cell_type": "code",
   "execution_count": null,
   "metadata": {},
   "outputs": [],
   "source": [
    "test = '''select count(tripduration) as Number_of_trips from citibike'''"
   ]
  },
  {
   "cell_type": "code",
   "execution_count": null,
   "metadata": {},
   "outputs": [],
   "source": [
    "pd.read_csv(StringIO.StringIO(queryCartoDB(test)),sep=',')"
   ]
  },
  {
   "cell_type": "markdown",
   "metadata": {},
   "source": [
    "### Find the average/min/max trip duration"
   ]
  },
  {
   "cell_type": "code",
   "execution_count": null,
   "metadata": {},
   "outputs": [],
   "source": [
    "test = '''select max(tripduration) as Max_Trip_Duration,\n",
    "min(tripduration) as Min_Trip_Duration,\n",
    "AVG(tripduration) as Avg_Trip_Duration\n",
    "from citibike'''"
   ]
  },
  {
   "cell_type": "code",
   "execution_count": null,
   "metadata": {},
   "outputs": [],
   "source": [
    "pd.read_csv(StringIO.StringIO(queryCartoDB(test)),sep=',')"
   ]
  },
  {
   "cell_type": "markdown",
   "metadata": {
    "collapsed": true
   },
   "source": [
    "## Task 2 — Working with date/time"
   ]
  },
  {
   "cell_type": "markdown",
   "metadata": {},
   "source": [
    "### Selecting trips started on the weekends "
   ]
  },
  {
   "cell_type": "code",
   "execution_count": null,
   "metadata": {},
   "outputs": [],
   "source": [
    "test = '''select * from citibike\n",
    "where extract(DOW from starttime) IN (0,6)'''"
   ]
  },
  {
   "cell_type": "code",
   "execution_count": null,
   "metadata": {},
   "outputs": [],
   "source": [
    "weekend_trips = pd.read_csv(StringIO.StringIO(queryCartoDB(test)),sep=',')"
   ]
  },
  {
   "cell_type": "code",
   "execution_count": null,
   "metadata": {},
   "outputs": [],
   "source": [
    "weekend_trips['starttime'].head(5)"
   ]
  },
  {
   "cell_type": "markdown",
   "metadata": {},
   "source": [
    "### Selecting trips started on Feb-02-2015 only "
   ]
  },
  {
   "cell_type": "code",
   "execution_count": null,
   "metadata": {},
   "outputs": [],
   "source": [
    "test = '''select * from citibike\n",
    "where extract(DAY from starttime) in (2) and\n",
    "extract(MONTH from starttime) in (2) and \n",
    "extract(YEAR from starttime) in (2015)'''"
   ]
  },
  {
   "cell_type": "code",
   "execution_count": null,
   "metadata": {},
   "outputs": [],
   "source": [
    "feb2_trips = pd.read_csv(StringIO.StringIO(queryCartoDB(test)),sep=',')"
   ]
  },
  {
   "cell_type": "code",
   "execution_count": null,
   "metadata": {},
   "outputs": [],
   "source": [
    "feb2_trips.starttime.head(5)"
   ]
  },
  {
   "cell_type": "markdown",
   "metadata": {},
   "source": [
    "### Selecting trips started on the weekdays"
   ]
  },
  {
   "cell_type": "code",
   "execution_count": null,
   "metadata": {},
   "outputs": [],
   "source": [
    "test = '''select * from citibike\n",
    "where extract(DOW from starttime) NOT IN (0,6)'''"
   ]
  },
  {
   "cell_type": "code",
   "execution_count": null,
   "metadata": {},
   "outputs": [],
   "source": [
    "weekday_trips = pd.read_csv(StringIO.StringIO(queryCartoDB(test)),sep=',')"
   ]
  },
  {
   "cell_type": "code",
   "execution_count": null,
   "metadata": {},
   "outputs": [],
   "source": [
    "weekday_trips['starttime'].head(5)"
   ]
  },
  {
   "cell_type": "markdown",
   "metadata": {},
   "source": [
    "### What are average trip duration during weekends?"
   ]
  },
  {
   "cell_type": "code",
   "execution_count": null,
   "metadata": {},
   "outputs": [],
   "source": [
    "test = '''select avg(tripduration) as avg_trip_duration from citibike\n",
    "where extract(DOW from starttime) IN (0,6)'''"
   ]
  },
  {
   "cell_type": "code",
   "execution_count": null,
   "metadata": {},
   "outputs": [],
   "source": [
    "pd.read_csv(StringIO.StringIO(queryCartoDB(test)),sep=',')"
   ]
  },
  {
   "cell_type": "markdown",
   "metadata": {},
   "source": [
    "## Task 3 — Working with Space"
   ]
  },
  {
   "cell_type": "markdown",
   "metadata": {},
   "source": [
    "### Showing the list of start station locations - Using GROUP BY "
   ]
  },
  {
   "cell_type": "code",
   "execution_count": null,
   "metadata": {},
   "outputs": [],
   "source": [
    "test = '''select start_station_latitude, start_station_longitude from citibike\n",
    "group by start_station_latitude, start_station_longitude'''"
   ]
  },
  {
   "cell_type": "code",
   "execution_count": null,
   "metadata": {},
   "outputs": [],
   "source": [
    "start_station = pd.read_csv(StringIO.StringIO(queryCartoDB(test)),sep=',')"
   ]
  },
  {
   "cell_type": "code",
   "execution_count": null,
   "metadata": {},
   "outputs": [],
   "source": [
    "start_station.head(4)"
   ]
  },
  {
   "cell_type": "markdown",
   "metadata": {},
   "source": [
    "### Showing the number of trips started per station "
   ]
  },
  {
   "cell_type": "code",
   "execution_count": null,
   "metadata": {},
   "outputs": [],
   "source": [
    "test = '''select count(*) from citibike\n",
    "group by start_station_id, start_station_latitude, start_station_longitude'''"
   ]
  },
  {
   "cell_type": "code",
   "execution_count": null,
   "metadata": {},
   "outputs": [],
   "source": [
    "pd.read_csv(StringIO.StringIO(queryCartoDB(test)),sep=',')"
   ]
  },
  {
   "cell_type": "markdown",
   "metadata": {},
   "source": [
    "### Showing the number of trips started per station \n",
    "### ... but only for stations within 500m of Time Square! "
   ]
  },
  {
   "cell_type": "code",
   "execution_count": null,
   "metadata": {},
   "outputs": [],
   "source": [
    "test = '''select CDB_TransformToWebmercator(CDB_LatLng(start_station_latitude, start_station_longitude))\n",
    "as the_geom_webmercator, min(cartodb_id) as cartodb_id\n",
    "from citibike\n",
    "where ST_DWithin(CDB_LatLng(start_station_latitude, start_station_longitude)::geography,\n",
    "                 CDB_LatLng(40.7577, -73.9857)::geography,500)\n",
    "group by start_station_id, start_station_latitude, start_station_longitude\n",
    "'''"
   ]
  },
  {
   "cell_type": "code",
   "execution_count": null,
   "metadata": {},
   "outputs": [],
   "source": [
    "times_square_trips = pd.read_csv(StringIO.StringIO(queryCartoDB(test)),sep=',')"
   ]
  },
  {
   "cell_type": "code",
   "execution_count": null,
   "metadata": {},
   "outputs": [],
   "source": [
    "times_square_trips.head(5)"
   ]
  },
  {
   "cell_type": "markdown",
   "metadata": {},
   "source": [
    "## Task 4 — Putting it all together"
   ]
  },
  {
   "cell_type": "markdown",
   "metadata": {},
   "source": [
    "### Find the station that had the longest average trip duration during \n",
    "### weekends and within 500m of TimeSquare! "
   ]
  },
  {
   "cell_type": "code",
   "execution_count": null,
   "metadata": {},
   "outputs": [],
   "source": [
    "test = '''select start_station_id, avg(tripduration) from citibike\n",
    "where ST_DWithin(CDB_LatLng(start_station_latitude, start_station_longitude)::geography,\n",
    "                 CDB_LatLng(40.7577, -73.9857)::geography,500)\n",
    "                 group by start_station_id'''"
   ]
  },
  {
   "cell_type": "code",
   "execution_count": null,
   "metadata": {},
   "outputs": [],
   "source": [
    "station_id_timesq_500m = pd.read_csv(StringIO.StringIO(queryCartoDB(test)),sep=',')"
   ]
  },
  {
   "cell_type": "code",
   "execution_count": null,
   "metadata": {},
   "outputs": [],
   "source": [
    "max_avg = station_id_timesq_500m['avg'].max()"
   ]
  },
  {
   "cell_type": "code",
   "execution_count": null,
   "metadata": {},
   "outputs": [],
   "source": [
    "station_id_max_avg_trip = station_id_timesq_500m[station_id_timesq_500m['avg'] == max_avg]"
   ]
  },
  {
   "cell_type": "code",
   "execution_count": null,
   "metadata": {},
   "outputs": [],
   "source": [
    "print(\"Start station id with longest avg trip duration is - \"+str(station_id_max_avg_trip['start_station_id']))"
   ]
  },
  {
   "cell_type": "markdown",
   "metadata": {},
   "source": [
    "### Extra: create lines for trips started from stations within 500m of Times Squares and lasted less than 2 hours\n",
    "### The number of trips per each pair of stations are output as attributes of these lines. "
   ]
  },
  {
   "cell_type": "code",
   "execution_count": null,
   "metadata": {},
   "outputs": [],
   "source": [
    "test = '''select ST_Makeline(\n",
    "  CDB_TransformToWebmercator(CDB_LatLng(start_station_latitude, start_station_longitude)),\n",
    "  CDB_TransformToWebmercator(CDB_LatLng(end_station_latitude, end_station_longitude))\n",
    "  )\n",
    "as the_geom_webmercator, min(cartodb_id) as cartodb_id\n",
    "from citibike\n",
    "where ST_DWithin(CDB_LatLng(start_station_latitude, start_station_longitude)::geography,\n",
    "                 CDB_LatLng(40.7577, -73.9857)::geography,500)\n",
    "group by start_station_id, start_station_latitude, start_station_longitude,\n",
    "end_station_id, end_station_latitude, end_station_longitude'''"
   ]
  },
  {
   "cell_type": "code",
   "execution_count": null,
   "metadata": {},
   "outputs": [],
   "source": [
    "mark_lines = pd.read_csv(StringIO.StringIO(queryCartoDB(test)),sep=',')"
   ]
  },
  {
   "cell_type": "code",
   "execution_count": null,
   "metadata": {},
   "outputs": [],
   "source": [
    "mark_lines.head(5)"
   ]
  },
  {
   "cell_type": "markdown",
   "metadata": {},
   "source": [
    "## ASH Score -100. Extra Credit 0"
   ]
  },
  {
   "cell_type": "code",
   "execution_count": null,
   "metadata": {},
   "outputs": [],
   "source": []
  }
 ],
 "metadata": {
  "kernelspec": {
   "display_name": "PUI2016_Python3",
   "language": "python",
   "name": "pui2016_python3"
  },
  "language_info": {
   "codemirror_mode": {
    "name": "ipython",
    "version": 3
   },
   "file_extension": ".py",
   "mimetype": "text/x-python",
   "name": "python",
   "nbconvert_exporter": "python",
   "pygments_lexer": "ipython3",
   "version": "3.5.4"
  }
 },
 "nbformat": 4,
 "nbformat_minor": 1
}
