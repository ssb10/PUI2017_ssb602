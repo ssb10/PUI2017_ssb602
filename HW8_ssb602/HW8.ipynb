{
 "cells": [
  {
   "cell_type": "code",
   "execution_count": 1,
   "metadata": {
    "collapsed": true
   },
   "outputs": [],
   "source": [
    "import pandas as pd\n",
    "import matplotlib.pyplot as plt\n",
    "#matplotlib.style.use('ggplot')\n",
    "%matplotlib inline"
   ]
  },
  {
   "cell_type": "code",
   "execution_count": 26,
   "metadata": {},
   "outputs": [],
   "source": [
    "plt.style.use('ggplot')"
   ]
  },
  {
   "cell_type": "code",
   "execution_count": 2,
   "metadata": {
    "collapsed": true
   },
   "outputs": [],
   "source": [
    "restuarant_data = pd.read_csv('https://data.cityofnewyork.us/api/views/xx67-kt59/rows.csv?accessType=DOWNLOAD')"
   ]
  },
  {
   "cell_type": "code",
   "execution_count": 3,
   "metadata": {},
   "outputs": [
    {
     "data": {
      "text/html": [
       "<div>\n",
       "<style>\n",
       "    .dataframe thead tr:only-child th {\n",
       "        text-align: right;\n",
       "    }\n",
       "\n",
       "    .dataframe thead th {\n",
       "        text-align: left;\n",
       "    }\n",
       "\n",
       "    .dataframe tbody tr th {\n",
       "        vertical-align: top;\n",
       "    }\n",
       "</style>\n",
       "<table border=\"1\" class=\"dataframe\">\n",
       "  <thead>\n",
       "    <tr style=\"text-align: right;\">\n",
       "      <th></th>\n",
       "      <th>CAMIS</th>\n",
       "      <th>DBA</th>\n",
       "      <th>BORO</th>\n",
       "      <th>BUILDING</th>\n",
       "      <th>STREET</th>\n",
       "      <th>ZIPCODE</th>\n",
       "      <th>PHONE</th>\n",
       "      <th>CUISINE DESCRIPTION</th>\n",
       "      <th>INSPECTION DATE</th>\n",
       "      <th>ACTION</th>\n",
       "      <th>VIOLATION CODE</th>\n",
       "      <th>VIOLATION DESCRIPTION</th>\n",
       "      <th>CRITICAL FLAG</th>\n",
       "      <th>SCORE</th>\n",
       "      <th>GRADE</th>\n",
       "      <th>GRADE DATE</th>\n",
       "      <th>RECORD DATE</th>\n",
       "      <th>INSPECTION TYPE</th>\n",
       "    </tr>\n",
       "  </thead>\n",
       "  <tbody>\n",
       "    <tr>\n",
       "      <th>0</th>\n",
       "      <td>41381287</td>\n",
       "      <td>SINGAS FAMOUS PIZZA</td>\n",
       "      <td>QUEENS</td>\n",
       "      <td>26021</td>\n",
       "      <td>HILLSIDE AVENUE</td>\n",
       "      <td>11004.0</td>\n",
       "      <td>7183474300</td>\n",
       "      <td>Pizza</td>\n",
       "      <td>01/17/2017</td>\n",
       "      <td>Violations were cited in the following area(s).</td>\n",
       "      <td>10E</td>\n",
       "      <td>Accurate thermometer not provided in refrigera...</td>\n",
       "      <td>Not Critical</td>\n",
       "      <td>12.0</td>\n",
       "      <td>A</td>\n",
       "      <td>01/17/2017</td>\n",
       "      <td>11/15/2017</td>\n",
       "      <td>Cycle Inspection / Initial Inspection</td>\n",
       "    </tr>\n",
       "    <tr>\n",
       "      <th>1</th>\n",
       "      <td>41601611</td>\n",
       "      <td>LEFT BANK</td>\n",
       "      <td>MANHATTAN</td>\n",
       "      <td>117</td>\n",
       "      <td>PERRY STREET</td>\n",
       "      <td>10014.0</td>\n",
       "      <td>2127271170</td>\n",
       "      <td>American</td>\n",
       "      <td>04/15/2014</td>\n",
       "      <td>Violations were cited in the following area(s).</td>\n",
       "      <td>10E</td>\n",
       "      <td>Accurate thermometer not provided in refrigera...</td>\n",
       "      <td>Not Critical</td>\n",
       "      <td>30.0</td>\n",
       "      <td>NaN</td>\n",
       "      <td>NaN</td>\n",
       "      <td>11/15/2017</td>\n",
       "      <td>Cycle Inspection / Initial Inspection</td>\n",
       "    </tr>\n",
       "    <tr>\n",
       "      <th>2</th>\n",
       "      <td>50003131</td>\n",
       "      <td>CHATIME</td>\n",
       "      <td>MANHATTAN</td>\n",
       "      <td>858</td>\n",
       "      <td>LEXINGTON AVENUE</td>\n",
       "      <td>10065.0</td>\n",
       "      <td>2129888878</td>\n",
       "      <td>CafÃ©/Coffee/Tea</td>\n",
       "      <td>07/13/2016</td>\n",
       "      <td>Violations were cited in the following area(s).</td>\n",
       "      <td>04L</td>\n",
       "      <td>Evidence of mice or live mice present in facil...</td>\n",
       "      <td>Critical</td>\n",
       "      <td>34.0</td>\n",
       "      <td>NaN</td>\n",
       "      <td>NaN</td>\n",
       "      <td>11/15/2017</td>\n",
       "      <td>Cycle Inspection / Initial Inspection</td>\n",
       "    </tr>\n",
       "  </tbody>\n",
       "</table>\n",
       "</div>"
      ],
      "text/plain": [
       "      CAMIS                  DBA       BORO BUILDING            STREET  \\\n",
       "0  41381287  SINGAS FAMOUS PIZZA     QUEENS    26021   HILLSIDE AVENUE   \n",
       "1  41601611            LEFT BANK  MANHATTAN      117      PERRY STREET   \n",
       "2  50003131              CHATIME  MANHATTAN      858  LEXINGTON AVENUE   \n",
       "\n",
       "   ZIPCODE       PHONE CUISINE DESCRIPTION INSPECTION DATE  \\\n",
       "0  11004.0  7183474300               Pizza      01/17/2017   \n",
       "1  10014.0  2127271170            American      04/15/2014   \n",
       "2  10065.0  2129888878    CafÃ©/Coffee/Tea      07/13/2016   \n",
       "\n",
       "                                            ACTION VIOLATION CODE  \\\n",
       "0  Violations were cited in the following area(s).            10E   \n",
       "1  Violations were cited in the following area(s).            10E   \n",
       "2  Violations were cited in the following area(s).            04L   \n",
       "\n",
       "                               VIOLATION DESCRIPTION CRITICAL FLAG  SCORE  \\\n",
       "0  Accurate thermometer not provided in refrigera...  Not Critical   12.0   \n",
       "1  Accurate thermometer not provided in refrigera...  Not Critical   30.0   \n",
       "2  Evidence of mice or live mice present in facil...      Critical   34.0   \n",
       "\n",
       "  GRADE  GRADE DATE RECORD DATE                        INSPECTION TYPE  \n",
       "0     A  01/17/2017  11/15/2017  Cycle Inspection / Initial Inspection  \n",
       "1   NaN         NaN  11/15/2017  Cycle Inspection / Initial Inspection  \n",
       "2   NaN         NaN  11/15/2017  Cycle Inspection / Initial Inspection  "
      ]
     },
     "execution_count": 3,
     "metadata": {},
     "output_type": "execute_result"
    }
   ],
   "source": [
    "restuarant_data.head(3)"
   ]
  },
  {
   "cell_type": "code",
   "execution_count": 4,
   "metadata": {
    "collapsed": true
   },
   "outputs": [],
   "source": [
    "restuarant_data = restuarant_data[(restuarant_data['GRADE'] == 'A') | (restuarant_data['GRADE'] == 'B')| \n",
    "                                  (restuarant_data['GRADE'] == 'C')]"
   ]
  },
  {
   "cell_type": "markdown",
   "metadata": {},
   "source": [
    "#### Removing missing data rows"
   ]
  },
  {
   "cell_type": "code",
   "execution_count": 5,
   "metadata": {
    "collapsed": true
   },
   "outputs": [],
   "source": [
    "restuarant_data = restuarant_data[(restuarant_data['CRITICAL FLAG'] != 'Not Applicable')]"
   ]
  },
  {
   "cell_type": "code",
   "execution_count": 6,
   "metadata": {
    "collapsed": true
   },
   "outputs": [],
   "source": [
    "restuarant_data = restuarant_data[(restuarant_data['BORO'] != 'Missing')]"
   ]
  },
  {
   "cell_type": "code",
   "execution_count": 9,
   "metadata": {
    "collapsed": true
   },
   "outputs": [],
   "source": [
    "res_grade = restuarant_data.groupby(['BORO','GRADE']).size().unstack()"
   ]
  },
  {
   "cell_type": "code",
   "execution_count": 76,
   "metadata": {
    "collapsed": true
   },
   "outputs": [],
   "source": [
    "res_violation = restuarant_data.groupby(['BORO','CRITICAL FLAG']).size().unstack()"
   ]
  },
  {
   "cell_type": "code",
   "execution_count": 81,
   "metadata": {},
   "outputs": [
    {
     "data": {
      "text/plain": [
       "<matplotlib.text.Text at 0x1b3a40f0>"
      ]
     },
     "execution_count": 81,
     "metadata": {},
     "output_type": "execute_result"
    },
    {
     "data": {
      "image/png": "[encoded data removed]",
      "text/plain": [
       "<matplotlib.figure.Figure at 0x209f8e10>"
      ]
     },
     "metadata": {},
     "output_type": "display_data"
    }
   ],
   "source": [
    "fig, ax1 = plt.subplots(figsize=(12,10))\n",
    "restuarant_data.groupby(['BORO','GRADE']).size().unstack().plot(kind='bar',ax=ax1, colormap='cool')\n",
    "res_violation[['Critical','Not Critical']].plot.bar(ax=ax1,stacked=True,alpha=0.5,colormap='hot')\n",
    "ax1.set_xlabel('Borough')\n",
    "ax1.set_ylabel('Counts for Grade and Critical Flag')\n",
    "ax1.set_title('Borough-wise Restaurant Inspection - Grades and Violations ')"
   ]
  },
  {
   "cell_type": "markdown",
   "metadata": {},
   "source": [
    "#### Figure 1: Above figure is an analysis of Restaurant Inspection Results where Borough is shown on x-axis\n",
    "#### and y-axis has counts of various different types of Grades (A,B,C) and level of violations(Critical, Not Critical)."
   ]
  }
 ],
 "metadata": {
  "kernelspec": {
   "display_name": "Python 3",
   "language": "python",
   "name": "python3"
  },
  "language_info": {
   "codemirror_mode": {
    "name": "ipython",
    "version": 3
   },
   "file_extension": ".py",
   "mimetype": "text/x-python",
   "name": "python",
   "nbconvert_exporter": "python",
   "pygments_lexer": "ipython3",
   "version": "3.6.1"
  }
 },
 "nbformat": 4,
 "nbformat_minor": 2
}
