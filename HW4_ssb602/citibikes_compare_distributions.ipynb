{
 "cells": [
  {
   "cell_type": "markdown",
   "metadata": {
    "collapsed": true,
    "run_control": {
     "frozen": false,
     "read_only": false
    }
   },
   "source": [
    "# Skeleton of Assignment 4:\n",
    "    test if the distribution of \n",
    "    \n",
    "    1) trip duration of bikers that ride during the day vs night\n",
    "    \n",
    "    2) age of bikers for trips originating in Manhattan and in Brooklyn\n",
    "    \n",
    "    are different. Use 3 tests: KS, Pearson's, Spearman's. \n",
    "    \n",
    "    Use the scipy.stats functions scipy.stats.ks_2samp, scipy.stats.pearsonr, scipy.stats.spearmanr. \n",
    "    \n",
    "    For the KS do the test with the entire dataset and with a subset 200 times smaller\n",
    "    \n",
    "    Choose a single significant threshold for the whole exercise. \n",
    "    \n",
    "    For each test phrase the Null Hypothesis in words.\n",
    "    \n",
    "    Describe the return of the scipy function you use in each case.\n",
    "    \n",
    "    State the result in terms of rejection of the Null."
   ]
  },
  {
   "cell_type": "code",
   "execution_count": 1,
   "metadata": {
    "ExecuteTime": {
     "end_time": "2017-10-05T16:48:06.390950",
     "start_time": "2017-10-05T16:48:04.815178"
    },
    "collapsed": false,
    "run_control": {
     "frozen": false,
     "read_only": false
    },
    "scrolled": true
   },
   "outputs": [
    {
     "name": "stdout",
     "output_type": "stream",
     "text": [
      "Populating the interactive namespace from numpy and matplotlib\n"
     ]
    }
   ],
   "source": [
    "# my usual imports and setups\n",
    "import pylab as pl\n",
    "import pandas as pd\n",
    "import numpy as np\n",
    "import scipy.stats\n",
    "#imports downloader\n",
    "#from getCitiBikeCSV import getCitiBikeCSV\n",
    "\n",
    "%pylab inline\n",
    "\n",
    "#import os\n",
    "#this makes my plots pretty! but it is totally not mandatory to do it\n",
    "#import json\n",
    "#s = json.load( open(os.getenv ('PUI2016')+\"/fbb_matplotlibrc.json\") )\n",
    "#pl.rcParams.update(s)\n",
    "\n"
   ]
  },
  {
   "cell_type": "markdown",
   "metadata": {
    "run_control": {
     "frozen": false,
     "read_only": false
    }
   },
   "source": [
    "# Read in data\n",
    "I am reading in data from January 2015 with the function that I created getCitiBikeCSV. You are requested to use 2 months at least. It would be a good idea to use data from a colder and a warmer months, since there are more riders in the warm weather and ridership patterns may change with weather, temperature, etc. You should use data from multiple months, joining multiple datasets (thus addressing some systematic errors as well)"
   ]
  },
  {
   "cell_type": "code",
   "execution_count": 3,
   "metadata": {
    "ExecuteTime": {
     "end_time": "2017-10-05T16:48:09.386484",
     "start_time": "2017-10-05T16:48:06.821336"
    },
    "collapsed": false,
    "run_control": {
     "frozen": false,
     "read_only": false
    }
   },
   "outputs": [
    {
     "name": "stdout",
     "output_type": "stream",
     "text": [
      "('Downloading', '201501')\n",
      "file in place, you can continue\n"
     ]
    }
   ],
   "source": [
    "datestring = '201501'\n",
    "getCitiBikeCSV(datestring)"
   ]
  },
  {
   "cell_type": "code",
   "execution_count": 1,
   "metadata": {
    "collapsed": false
   },
   "outputs": [
    {
     "name": "stdout",
     "output_type": "stream",
     "text": [
      "201307-citibike-tripdata.zip  201508-citibike-tripdata.zip\r\n",
      "201308-citibike-tripdata.zip  201509-citibike-tripdata.zip\r\n",
      "201309-citibike-tripdata.zip  201510-citibike-tripdata.zip\r\n",
      "201310-citibike-tripdata.zip  201511-citibike-tripdata.zip\r\n",
      "201311-citibike-tripdata.zip  201512-citibike-tripdata.zip\r\n",
      "201312-citibike-tripdata.zip  201601-citibike-tripdata.zip\r\n",
      "201401-citibike-tripdata.zip  201602-citibike-tripdata.zip\r\n",
      "201402-citibike-tripdata.zip  201603-citibike-tripdata.zip\r\n",
      "201403-citibike-tripdata.zip  201604-citibike-tripdata.zip\r\n",
      "201404-citibike-tripdata.zip  201605-citibike-tripdata.zip\r\n",
      "201405-citibike-tripdata.zip  201606-citibike-tripdata.zip\r\n",
      "201406-citibike-tripdata.zip  201607-citibike-tripdata.zip\r\n",
      "201407-citibike-tripdata.zip  201608-citibike-tripdata.zip\r\n",
      "201408-citibike-tripdata.zip  201609-citibike-tripdata.zip\r\n",
      "201409-citibike-tripdata.zip  201610-citibike-tripdata.zip\r\n",
      "201410-citibike-tripdata.zip  201611-citibike-tripdata.zip\r\n",
      "201411-citibike-tripdata.zip  201612-citibike-tripdata.zip\r\n",
      "201412-citibike-tripdata.zip  201701-citibike-tripdata.csv.zip\r\n",
      "201501-citibike-tripdata.zip  201702-citibike-tripdata.csv.zip\r\n",
      "201502-citibike-tripdata.zip  201703-citibike-tripdata.csv.zip\r\n",
      "201503-citibike-tripdata.zip  201704-citibike-tripdata.csv.zip\r\n",
      "201504-citibike-tripdata.zip  201705-citibike-tripdata.csv.zip\r\n",
      "201505-citibike-tripdata.zip  201706-citibike-tripdata.csv.zip\r\n",
      "201506-citibike-tripdata.zip  201707-citibike-tripdata.csv.zip\r\n",
      "201507-citibike-tripdata.zip\r\n"
     ]
    }
   ],
   "source": [
    "!ls /gws/open/Student/citibike"
   ]
  },
  {
   "cell_type": "code",
   "execution_count": 2,
   "metadata": {
    "collapsed": false
   },
   "outputs": [],
   "source": [
    "#Reading data for two months -  October, November\n",
    "citi_bike_df_oct = pd.read_csv('/gws/open/Student/citibike/201610-citibike-tripdata.zip', compression='zip')\n",
    "citi_bike_df_nov = pd.read_csv('/gws/open/Student/citibike/201611-citibike-tripdata.zip', compression='zip')"
   ]
  },
  {
   "cell_type": "code",
   "execution_count": 3,
   "metadata": {
    "collapsed": false
   },
   "outputs": [],
   "source": [
    "#Combining data of two months\n",
    "citi_bike_df = citi_bike_df_oct"
   ]
  },
  {
   "cell_type": "code",
   "execution_count": 4,
   "metadata": {
    "collapsed": true
   },
   "outputs": [],
   "source": [
    "citi_bike_df = citi_bike_df.append(citi_bike_df_nov, ignore_index=True)"
   ]
  },
  {
   "cell_type": "code",
   "execution_count": 49,
   "metadata": {
    "collapsed": false
   },
   "outputs": [
    {
     "data": {
      "text/html": [
       "<div>\n",
       "<table border=\"1\" class=\"dataframe\">\n",
       "  <thead>\n",
       "    <tr style=\"text-align: right;\">\n",
       "      <th></th>\n",
       "      <th>Trip Duration</th>\n",
       "      <th>Start Time</th>\n",
       "      <th>Stop Time</th>\n",
       "      <th>Start Station ID</th>\n",
       "      <th>Start Station Name</th>\n",
       "      <th>Start Station Latitude</th>\n",
       "      <th>Start Station Longitude</th>\n",
       "      <th>End Station ID</th>\n",
       "      <th>End Station Name</th>\n",
       "      <th>End Station Latitude</th>\n",
       "      <th>End Station Longitude</th>\n",
       "      <th>Bike ID</th>\n",
       "      <th>User Type</th>\n",
       "      <th>Birth Year</th>\n",
       "      <th>Gender</th>\n",
       "      <th>date</th>\n",
       "      <th>houroftheday</th>\n",
       "    </tr>\n",
       "  </thead>\n",
       "  <tbody>\n",
       "    <tr>\n",
       "      <th>0</th>\n",
       "      <td>328</td>\n",
       "      <td>2016-10-01 00:00:07</td>\n",
       "      <td>2016-10-01 00:05:35</td>\n",
       "      <td>471</td>\n",
       "      <td>Grand St &amp; Havemeyer St</td>\n",
       "      <td>40.712868</td>\n",
       "      <td>-73.956981</td>\n",
       "      <td>3077</td>\n",
       "      <td>Stagg St &amp; Union Ave</td>\n",
       "      <td>40.708771</td>\n",
       "      <td>-73.950953</td>\n",
       "      <td>25254</td>\n",
       "      <td>Subscriber</td>\n",
       "      <td>1992.0</td>\n",
       "      <td>1</td>\n",
       "      <td>2016-10-01 00:00:07</td>\n",
       "      <td>0</td>\n",
       "    </tr>\n",
       "    <tr>\n",
       "      <th>1</th>\n",
       "      <td>398</td>\n",
       "      <td>2016-10-01 00:00:11</td>\n",
       "      <td>2016-10-01 00:06:49</td>\n",
       "      <td>3147</td>\n",
       "      <td>E 85 St &amp; 3 Ave</td>\n",
       "      <td>40.778012</td>\n",
       "      <td>-73.954071</td>\n",
       "      <td>3140</td>\n",
       "      <td>1 Ave &amp; E 78 St</td>\n",
       "      <td>40.771404</td>\n",
       "      <td>-73.953517</td>\n",
       "      <td>17810</td>\n",
       "      <td>Subscriber</td>\n",
       "      <td>1988.0</td>\n",
       "      <td>2</td>\n",
       "      <td>2016-10-01 00:00:11</td>\n",
       "      <td>0</td>\n",
       "    </tr>\n",
       "    <tr>\n",
       "      <th>2</th>\n",
       "      <td>430</td>\n",
       "      <td>2016-10-01 00:00:14</td>\n",
       "      <td>2016-10-01 00:07:25</td>\n",
       "      <td>345</td>\n",
       "      <td>W 13 St &amp; 6 Ave</td>\n",
       "      <td>40.736494</td>\n",
       "      <td>-73.997044</td>\n",
       "      <td>470</td>\n",
       "      <td>W 20 St &amp; 8 Ave</td>\n",
       "      <td>40.743453</td>\n",
       "      <td>-74.000040</td>\n",
       "      <td>20940</td>\n",
       "      <td>Subscriber</td>\n",
       "      <td>1965.0</td>\n",
       "      <td>1</td>\n",
       "      <td>2016-10-01 00:00:14</td>\n",
       "      <td>0</td>\n",
       "    </tr>\n",
       "    <tr>\n",
       "      <th>3</th>\n",
       "      <td>351</td>\n",
       "      <td>2016-10-01 00:00:21</td>\n",
       "      <td>2016-10-01 00:06:12</td>\n",
       "      <td>3307</td>\n",
       "      <td>West End Ave &amp; W 94 St</td>\n",
       "      <td>40.794165</td>\n",
       "      <td>-73.974124</td>\n",
       "      <td>3357</td>\n",
       "      <td>W 106 St &amp; Amsterdam Ave</td>\n",
       "      <td>40.800836</td>\n",
       "      <td>-73.966449</td>\n",
       "      <td>19086</td>\n",
       "      <td>Subscriber</td>\n",
       "      <td>1993.0</td>\n",
       "      <td>1</td>\n",
       "      <td>2016-10-01 00:00:21</td>\n",
       "      <td>0</td>\n",
       "    </tr>\n",
       "    <tr>\n",
       "      <th>4</th>\n",
       "      <td>2693</td>\n",
       "      <td>2016-10-01 00:00:21</td>\n",
       "      <td>2016-10-01 00:45:15</td>\n",
       "      <td>3428</td>\n",
       "      <td>8 Ave &amp; W 16 St</td>\n",
       "      <td>40.740983</td>\n",
       "      <td>-74.001702</td>\n",
       "      <td>3323</td>\n",
       "      <td>W 106 St &amp; Central Park West</td>\n",
       "      <td>40.798186</td>\n",
       "      <td>-73.960591</td>\n",
       "      <td>26502</td>\n",
       "      <td>Subscriber</td>\n",
       "      <td>1991.0</td>\n",
       "      <td>1</td>\n",
       "      <td>2016-10-01 00:00:21</td>\n",
       "      <td>0</td>\n",
       "    </tr>\n",
       "  </tbody>\n",
       "</table>\n",
       "</div>"
      ],
      "text/plain": [
       "   Trip Duration           Start Time            Stop Time  Start Station ID  \\\n",
       "0            328  2016-10-01 00:00:07  2016-10-01 00:05:35               471   \n",
       "1            398  2016-10-01 00:00:11  2016-10-01 00:06:49              3147   \n",
       "2            430  2016-10-01 00:00:14  2016-10-01 00:07:25               345   \n",
       "3            351  2016-10-01 00:00:21  2016-10-01 00:06:12              3307   \n",
       "4           2693  2016-10-01 00:00:21  2016-10-01 00:45:15              3428   \n",
       "\n",
       "        Start Station Name  Start Station Latitude  Start Station Longitude  \\\n",
       "0  Grand St & Havemeyer St               40.712868               -73.956981   \n",
       "1          E 85 St & 3 Ave               40.778012               -73.954071   \n",
       "2          W 13 St & 6 Ave               40.736494               -73.997044   \n",
       "3   West End Ave & W 94 St               40.794165               -73.974124   \n",
       "4          8 Ave & W 16 St               40.740983               -74.001702   \n",
       "\n",
       "   End Station ID              End Station Name  End Station Latitude  \\\n",
       "0            3077          Stagg St & Union Ave             40.708771   \n",
       "1            3140               1 Ave & E 78 St             40.771404   \n",
       "2             470               W 20 St & 8 Ave             40.743453   \n",
       "3            3357      W 106 St & Amsterdam Ave             40.800836   \n",
       "4            3323  W 106 St & Central Park West             40.798186   \n",
       "\n",
       "   End Station Longitude  Bike ID   User Type  Birth Year  Gender  \\\n",
       "0             -73.950953    25254  Subscriber      1992.0       1   \n",
       "1             -73.953517    17810  Subscriber      1988.0       2   \n",
       "2             -74.000040    20940  Subscriber      1965.0       1   \n",
       "3             -73.966449    19086  Subscriber      1993.0       1   \n",
       "4             -73.960591    26502  Subscriber      1991.0       1   \n",
       "\n",
       "                 date  houroftheday  \n",
       "0 2016-10-01 00:00:07             0  \n",
       "1 2016-10-01 00:00:11             0  \n",
       "2 2016-10-01 00:00:14             0  \n",
       "3 2016-10-01 00:00:21             0  \n",
       "4 2016-10-01 00:00:21             0  "
      ]
     },
     "execution_count": 49,
     "metadata": {},
     "output_type": "execute_result"
    }
   ],
   "source": [
    "citi_bike_df.head()"
   ]
  },
  {
   "cell_type": "code",
   "execution_count": 6,
   "metadata": {
    "collapsed": false
   },
   "outputs": [
    {
     "data": {
      "text/plain": [
       "Index([u'Trip Duration', u'Start Time', u'Stop Time', u'Start Station ID',\n",
       "       u'Start Station Name', u'Start Station Latitude',\n",
       "       u'Start Station Longitude', u'End Station ID', u'End Station Name',\n",
       "       u'End Station Latitude', u'End Station Longitude', u'Bike ID',\n",
       "       u'User Type', u'Birth Year', u'Gender'],\n",
       "      dtype='object')"
      ]
     },
     "execution_count": 6,
     "metadata": {},
     "output_type": "execute_result"
    }
   ],
   "source": [
    "citi_bike_df.columns"
   ]
  },
  {
   "cell_type": "code",
   "execution_count": 7,
   "metadata": {
    "ExecuteTime": {
     "end_time": "2017-10-05T16:51:52.008367",
     "start_time": "2017-10-05T16:48:18.977948"
    },
    "collapsed": false,
    "run_control": {
     "frozen": false,
     "read_only": false
    }
   },
   "outputs": [
    {
     "data": {
      "text/html": [
       "<div>\n",
       "<table border=\"1\" class=\"dataframe\">\n",
       "  <thead>\n",
       "    <tr style=\"text-align: right;\">\n",
       "      <th></th>\n",
       "      <th>Trip Duration</th>\n",
       "      <th>Start Time</th>\n",
       "      <th>Stop Time</th>\n",
       "      <th>Start Station ID</th>\n",
       "      <th>Start Station Name</th>\n",
       "      <th>Start Station Latitude</th>\n",
       "      <th>Start Station Longitude</th>\n",
       "      <th>End Station ID</th>\n",
       "      <th>End Station Name</th>\n",
       "      <th>End Station Latitude</th>\n",
       "      <th>End Station Longitude</th>\n",
       "      <th>Bike ID</th>\n",
       "      <th>User Type</th>\n",
       "      <th>Birth Year</th>\n",
       "      <th>Gender</th>\n",
       "      <th>date</th>\n",
       "    </tr>\n",
       "  </thead>\n",
       "  <tbody>\n",
       "    <tr>\n",
       "      <th>0</th>\n",
       "      <td>328</td>\n",
       "      <td>2016-10-01 00:00:07</td>\n",
       "      <td>2016-10-01 00:05:35</td>\n",
       "      <td>471</td>\n",
       "      <td>Grand St &amp; Havemeyer St</td>\n",
       "      <td>40.712868</td>\n",
       "      <td>-73.956981</td>\n",
       "      <td>3077</td>\n",
       "      <td>Stagg St &amp; Union Ave</td>\n",
       "      <td>40.708771</td>\n",
       "      <td>-73.950953</td>\n",
       "      <td>25254</td>\n",
       "      <td>Subscriber</td>\n",
       "      <td>1992.0</td>\n",
       "      <td>1</td>\n",
       "      <td>2016-10-01 00:00:07</td>\n",
       "    </tr>\n",
       "    <tr>\n",
       "      <th>1</th>\n",
       "      <td>398</td>\n",
       "      <td>2016-10-01 00:00:11</td>\n",
       "      <td>2016-10-01 00:06:49</td>\n",
       "      <td>3147</td>\n",
       "      <td>E 85 St &amp; 3 Ave</td>\n",
       "      <td>40.778012</td>\n",
       "      <td>-73.954071</td>\n",
       "      <td>3140</td>\n",
       "      <td>1 Ave &amp; E 78 St</td>\n",
       "      <td>40.771404</td>\n",
       "      <td>-73.953517</td>\n",
       "      <td>17810</td>\n",
       "      <td>Subscriber</td>\n",
       "      <td>1988.0</td>\n",
       "      <td>2</td>\n",
       "      <td>2016-10-01 00:00:11</td>\n",
       "    </tr>\n",
       "    <tr>\n",
       "      <th>2</th>\n",
       "      <td>430</td>\n",
       "      <td>2016-10-01 00:00:14</td>\n",
       "      <td>2016-10-01 00:07:25</td>\n",
       "      <td>345</td>\n",
       "      <td>W 13 St &amp; 6 Ave</td>\n",
       "      <td>40.736494</td>\n",
       "      <td>-73.997044</td>\n",
       "      <td>470</td>\n",
       "      <td>W 20 St &amp; 8 Ave</td>\n",
       "      <td>40.743453</td>\n",
       "      <td>-74.000040</td>\n",
       "      <td>20940</td>\n",
       "      <td>Subscriber</td>\n",
       "      <td>1965.0</td>\n",
       "      <td>1</td>\n",
       "      <td>2016-10-01 00:00:14</td>\n",
       "    </tr>\n",
       "    <tr>\n",
       "      <th>3</th>\n",
       "      <td>351</td>\n",
       "      <td>2016-10-01 00:00:21</td>\n",
       "      <td>2016-10-01 00:06:12</td>\n",
       "      <td>3307</td>\n",
       "      <td>West End Ave &amp; W 94 St</td>\n",
       "      <td>40.794165</td>\n",
       "      <td>-73.974124</td>\n",
       "      <td>3357</td>\n",
       "      <td>W 106 St &amp; Amsterdam Ave</td>\n",
       "      <td>40.800836</td>\n",
       "      <td>-73.966449</td>\n",
       "      <td>19086</td>\n",
       "      <td>Subscriber</td>\n",
       "      <td>1993.0</td>\n",
       "      <td>1</td>\n",
       "      <td>2016-10-01 00:00:21</td>\n",
       "    </tr>\n",
       "    <tr>\n",
       "      <th>4</th>\n",
       "      <td>2693</td>\n",
       "      <td>2016-10-01 00:00:21</td>\n",
       "      <td>2016-10-01 00:45:15</td>\n",
       "      <td>3428</td>\n",
       "      <td>8 Ave &amp; W 16 St</td>\n",
       "      <td>40.740983</td>\n",
       "      <td>-74.001702</td>\n",
       "      <td>3323</td>\n",
       "      <td>W 106 St &amp; Central Park West</td>\n",
       "      <td>40.798186</td>\n",
       "      <td>-73.960591</td>\n",
       "      <td>26502</td>\n",
       "      <td>Subscriber</td>\n",
       "      <td>1991.0</td>\n",
       "      <td>1</td>\n",
       "      <td>2016-10-01 00:00:21</td>\n",
       "    </tr>\n",
       "  </tbody>\n",
       "</table>\n",
       "</div>"
      ],
      "text/plain": [
       "   Trip Duration           Start Time            Stop Time  Start Station ID  \\\n",
       "0            328  2016-10-01 00:00:07  2016-10-01 00:05:35               471   \n",
       "1            398  2016-10-01 00:00:11  2016-10-01 00:06:49              3147   \n",
       "2            430  2016-10-01 00:00:14  2016-10-01 00:07:25               345   \n",
       "3            351  2016-10-01 00:00:21  2016-10-01 00:06:12              3307   \n",
       "4           2693  2016-10-01 00:00:21  2016-10-01 00:45:15              3428   \n",
       "\n",
       "        Start Station Name  Start Station Latitude  Start Station Longitude  \\\n",
       "0  Grand St & Havemeyer St               40.712868               -73.956981   \n",
       "1          E 85 St & 3 Ave               40.778012               -73.954071   \n",
       "2          W 13 St & 6 Ave               40.736494               -73.997044   \n",
       "3   West End Ave & W 94 St               40.794165               -73.974124   \n",
       "4          8 Ave & W 16 St               40.740983               -74.001702   \n",
       "\n",
       "   End Station ID              End Station Name  End Station Latitude  \\\n",
       "0            3077          Stagg St & Union Ave             40.708771   \n",
       "1            3140               1 Ave & E 78 St             40.771404   \n",
       "2             470               W 20 St & 8 Ave             40.743453   \n",
       "3            3357      W 106 St & Amsterdam Ave             40.800836   \n",
       "4            3323  W 106 St & Central Park West             40.798186   \n",
       "\n",
       "   End Station Longitude  Bike ID   User Type  Birth Year  Gender  \\\n",
       "0             -73.950953    25254  Subscriber      1992.0       1   \n",
       "1             -73.953517    17810  Subscriber      1988.0       2   \n",
       "2             -74.000040    20940  Subscriber      1965.0       1   \n",
       "3             -73.966449    19086  Subscriber      1993.0       1   \n",
       "4             -73.960591    26502  Subscriber      1991.0       1   \n",
       "\n",
       "                 date  \n",
       "0 2016-10-01 00:00:07  \n",
       "1 2016-10-01 00:00:11  \n",
       "2 2016-10-01 00:00:14  \n",
       "3 2016-10-01 00:00:21  \n",
       "4 2016-10-01 00:00:21  "
      ]
     },
     "execution_count": 7,
     "metadata": {},
     "output_type": "execute_result"
    }
   ],
   "source": [
    "# df is the dataframe where the content of the csv file is stored\n",
    "citi_bike_df['date'] = pd.to_datetime(citi_bike_df['Start Time'])\n",
    "# note that with dataframes I can refer to variables as dictionary keys, \n",
    "# i.e. df['starttime'] or as attributes: df.starttime. \n",
    "citi_bike_df.head()"
   ]
  },
  {
   "cell_type": "code",
   "execution_count": 8,
   "metadata": {
    "collapsed": false,
    "run_control": {
     "frozen": false,
     "read_only": false
    }
   },
   "outputs": [
    {
     "data": {
      "text/plain": [
       "Index([u'Trip Duration', u'Start Time', u'Stop Time', u'Start Station ID',\n",
       "       u'Start Station Name', u'Start Station Latitude',\n",
       "       u'Start Station Longitude', u'End Station ID', u'End Station Name',\n",
       "       u'End Station Latitude', u'End Station Longitude', u'Bike ID',\n",
       "       u'User Type', u'Birth Year', u'Gender', u'date'],\n",
       "      dtype='object')"
      ]
     },
     "execution_count": 8,
     "metadata": {},
     "output_type": "execute_result"
    }
   ],
   "source": [
    "citi_bike_df.columns"
   ]
  },
  {
   "cell_type": "markdown",
   "metadata": {},
   "source": [
    "### Getting the trip duration by the hour of the day\n",
    "#### This will help in understanding the trip duration for day and night"
   ]
  },
  {
   "cell_type": "code",
   "execution_count": 9,
   "metadata": {
    "collapsed": true
   },
   "outputs": [],
   "source": [
    "citi_bike_df['houroftheday'] = pd.to_datetime(citi_bike_df['Start Time']).dt.hour"
   ]
  },
  {
   "cell_type": "code",
   "execution_count": 81,
   "metadata": {
    "collapsed": false
   },
   "outputs": [],
   "source": [
    "trip_by_hour = pd.DataFrame(citi_bike_df['houroftheday'],citi_bike_df['Trip Duration'])"
   ]
  },
  {
   "cell_type": "code",
   "execution_count": 22,
   "metadata": {
    "collapsed": false
   },
   "outputs": [],
   "source": [
    "trip_by_hour = citi_bike_df.groupby(['houroftheday','Trip Duration']).size()"
   ]
  },
  {
   "cell_type": "code",
   "execution_count": null,
   "metadata": {
    "collapsed": true
   },
   "outputs": [],
   "source": []
  },
  {
   "cell_type": "code",
   "execution_count": 50,
   "metadata": {
    "collapsed": false
   },
   "outputs": [
    {
     "data": {
      "image/png": "[encoded data removed]",
      "text/plain": [
       "<matplotlib.figure.Figure at 0x7f37048a4350>"
      ]
     },
     "metadata": {},
     "output_type": "display_data"
    }
   ],
   "source": [
    "ax1 = citi_bike_df['Trip Duration'].groupby(citi_bike_df['houroftheday']).agg([count_nonzero]).plot(kind='bar', \n",
    "                                                                legend=False)"
   ]
  },
  {
   "cell_type": "code",
   "execution_count": 11,
   "metadata": {
    "collapsed": false
   },
   "outputs": [
    {
     "data": {
      "text/plain": [
       "<matplotlib.text.Text at 0x7f3725bbee10>"
      ]
     },
     "execution_count": 11,
     "metadata": {},
     "output_type": "execute_result"
    },
    {
     "data": {
      "image/png": "[encoded data removed]",
      "text/plain": [
       "<matplotlib.figure.Figure at 0x7f3725c80dd0>"
      ]
     },
     "metadata": {},
     "output_type": "display_data"
    }
   ],
   "source": [
    "pl.figure(figsize=(15,8))\n",
    "pl.plot(citi_bike_df['houroftheday'],citi_bike_df['Trip Duration'],'o')\n",
    "pl.xlabel('Hour of the day')\n",
    "pl.ylabel('Trip Duration')\n",
    "pl.title('Trip Duration by Hour of the Day')"
   ]
  },
  {
   "cell_type": "markdown",
   "metadata": {},
   "source": [
    "### Null Hypothesis: H0: Trip Duration of riders is same or more during night as compared to day\n",
    "### Alternate Hypothesis: H1: Trip Duration during the day is more as compared to night"
   ]
  },
  {
   "cell_type": "markdown",
   "metadata": {},
   "source": [
    "#### Assumptions: \n",
    "#### Day Hours --> 6am to 6pm\n",
    "#### Night Hours -->  before 6am and after 6pm"
   ]
  },
  {
   "cell_type": "code",
   "execution_count": 70,
   "metadata": {
    "collapsed": true
   },
   "outputs": [],
   "source": [
    "trip_day_hours_df = trip_night_hours_df = trip_night_hours_df1 = 1"
   ]
  },
  {
   "cell_type": "code",
   "execution_count": 71,
   "metadata": {
    "collapsed": false
   },
   "outputs": [],
   "source": [
    "trip_day_hours_df = citi_bike_df[(citi_bike_df['houroftheday']>=7)& (citi_bike_df['houroftheday']<=18)]"
   ]
  },
  {
   "cell_type": "code",
   "execution_count": 72,
   "metadata": {
    "collapsed": false
   },
   "outputs": [],
   "source": [
    "trip_night_hours_df = citi_bike_df[(citi_bike_df['houroftheday']<=6)]"
   ]
  },
  {
   "cell_type": "code",
   "execution_count": 73,
   "metadata": {
    "collapsed": true
   },
   "outputs": [],
   "source": [
    "trip_night_hours_df1 = citi_bike_df[(citi_bike_df['houroftheday']>18)]"
   ]
  },
  {
   "cell_type": "code",
   "execution_count": 75,
   "metadata": {
    "collapsed": false
   },
   "outputs": [
    {
     "data": {
      "text/plain": [
       "19    163308\n",
       "20    111679\n",
       "21     79695\n",
       "6      61573\n",
       "22     59936\n",
       "23     39571\n",
       "0      24082\n",
       "5      16750\n",
       "1      13468\n",
       "2       7601\n",
       "4       4717\n",
       "3       4655\n",
       "Name: houroftheday, dtype: int64"
      ]
     },
     "execution_count": 75,
     "metadata": {},
     "output_type": "execute_result"
    }
   ],
   "source": [
    "trip_night_hours_df['houroftheday'].value_counts()"
   ]
  },
  {
   "cell_type": "code",
   "execution_count": 74,
   "metadata": {
    "collapsed": false
   },
   "outputs": [],
   "source": [
    "trip_night_hours_df = trip_night_hours_df.append(trip_night_hours_df1, ignore_index=True)"
   ]
  },
  {
   "cell_type": "code",
   "execution_count": null,
   "metadata": {
    "collapsed": true
   },
   "outputs": [],
   "source": []
  },
  {
   "cell_type": "code",
   "execution_count": 77,
   "metadata": {
    "collapsed": false
   },
   "outputs": [
    {
     "data": {
      "image/png": "[encoded data removed]",
      "text/plain": [
       "<matplotlib.figure.Figure at 0x7f3700575f50>"
      ]
     },
     "metadata": {},
     "output_type": "display_data"
    },
    {
     "data": {
      "image/png": "[encoded data removed]",
      "text/plain": [
       "<matplotlib.figure.Figure at 0x7f36ffc94e10>"
      ]
     },
     "metadata": {},
     "output_type": "display_data"
    }
   ],
   "source": [
    "axday = trip_day_hours_df['Trip Duration'].groupby(trip_day_hours_df['houroftheday']).agg([count_nonzero]).plot(kind='bar', \n",
    "                                                                legend=False)\n",
    "\n",
    "axnight = trip_night_hours_df['Trip Duration'].groupby(trip_night_hours_df['houroftheday']).agg([count_nonzero]).plot(kind='bar', \n",
    "                                                                legend=False)"
   ]
  },
  {
   "cell_type": "code",
   "execution_count": 43,
   "metadata": {
    "collapsed": false
   },
   "outputs": [
    {
     "data": {
      "image/png": "[encoded data removed]",
      "text/plain": [
       "<matplotlib.figure.Figure at 0x7f3704d71e10>"
      ]
     },
     "metadata": {},
     "output_type": "display_data"
    },
    {
     "data": {
      "image/png": "[encoded data removed]",
      "text/plain": [
       "<matplotlib.figure.Figure at 0x7f3703a6dc10>"
      ]
     },
     "metadata": {},
     "output_type": "display_data"
    }
   ],
   "source": [
    "bins = np.arange(6,19,1)\n",
    "bins_night = [0,1,2,3,4,5,19,20,21,22,23]\n",
    "axday = trip_day_hours_df['Trip Duration'].groupby(pd.cut(trip_day_hours_df['houroftheday'], bins)).agg([count_nonzero]).plot(kind='bar', \n",
    "                                                                legend=False)\n",
    "axnight = trip_night_hours_df['Trip Duration'].groupby(pd.cut(trip_night_hours_df['houroftheday'],\n",
    "                                                              bins_night)).agg([count_nonzero]).plot(kind='bar', \n",
    "                                                                legend=False)"
   ]
  },
  {
   "cell_type": "code",
   "execution_count": 79,
   "metadata": {
    "collapsed": false
   },
   "outputs": [
    {
     "name": "stdout",
     "output_type": "stream",
     "text": [
      "Ks_2sampResult(statistic=0.07288402429109522, pvalue=0.0)\n"
     ]
    }
   ],
   "source": [
    "ks = scipy.stats.ks_2samp(trip_day_hours_df['Trip Duration'], trip_night_hours_df['Trip Duration'])\n",
    "print(ks)"
   ]
  },
  {
   "cell_type": "code",
   "execution_count": null,
   "metadata": {
    "collapsed": true
   },
   "outputs": [],
   "source": []
  },
  {
   "cell_type": "code",
   "execution_count": 81,
   "metadata": {
    "collapsed": false
   },
   "outputs": [
    {
     "name": "stdout",
     "output_type": "stream",
     "text": [
      "(-0.0089998827128863323, 0.84089885257529073)\n"
     ]
    }
   ],
   "source": [
    "ps = scipy.stats.pearsonr(trip_day_hours_df['Trip Duration'].head(500),\n",
    "                          trip_night_hours_df['Trip Duration'].head(500))\n",
    "print(ps)"
   ]
  },
  {
   "cell_type": "code",
   "execution_count": null,
   "metadata": {
    "collapsed": true
   },
   "outputs": [],
   "source": []
  },
  {
   "cell_type": "code",
   "execution_count": 83,
   "metadata": {
    "collapsed": false
   },
   "outputs": [
    {
     "name": "stdout",
     "output_type": "stream",
     "text": [
      "SpearmanrResult(correlation=-0.0056681602734952362, pvalue=0.89939337070394065)\n"
     ]
    }
   ],
   "source": [
    "sp = scipy.stats.spearmanr(trip_day_hours_df['Trip Duration'].head(500), trip_night_hours_df['Trip Duration'].head(500))\n",
    "print(sp)"
   ]
  },
  {
   "cell_type": "markdown",
   "metadata": {
    "run_control": {
     "frozen": false,
     "read_only": false
    }
   },
   "source": [
    "# SPLIT BY CATEGORY\n",
    "\n",
    "as an example I am splitting data by gender and looking at age or riders:\n",
    "\n",
    "**H0: there is no statistical difference in the age distribution of male and female riders**\n",
    "$$ \\alpha = 0.05 $$\n",
    "\n",
    "extracting the age happens in the cell below"
   ]
  },
  {
   "cell_type": "code",
   "execution_count": 6,
   "metadata": {
    "ExecuteTime": {
     "end_time": "2017-10-05T16:51:52.357332",
     "start_time": "2017-10-05T16:51:52.017199"
    },
    "collapsed": true,
    "run_control": {
     "frozen": false,
     "read_only": false
    }
   },
   "outputs": [],
   "source": [
    "#df is the dataframe where the content of the csv file is stored\n",
    "df['ageM'] = 2015 - df['birth year'][(df['usertype'] == 'Subscriber') & (df['gender'] == 1)]\n",
    "df['ageF'] = 2015 - df['birth year'][(df['usertype'] == 'Subscriber') & (df['gender'] == 2)]"
   ]
  },
  {
   "cell_type": "code",
   "execution_count": 7,
   "metadata": {
    "collapsed": false,
    "run_control": {
     "frozen": false,
     "read_only": false
    }
   },
   "outputs": [
    {
     "data": {
      "text/html": [
       "<div>\n",
       "<table border=\"1\" class=\"dataframe\">\n",
       "  <thead>\n",
       "    <tr style=\"text-align: right;\">\n",
       "      <th></th>\n",
       "      <th>tripduration</th>\n",
       "      <th>starttime</th>\n",
       "      <th>stoptime</th>\n",
       "      <th>start station id</th>\n",
       "      <th>start station name</th>\n",
       "      <th>start station latitude</th>\n",
       "      <th>start station longitude</th>\n",
       "      <th>end station id</th>\n",
       "      <th>end station name</th>\n",
       "      <th>end station latitude</th>\n",
       "      <th>end station longitude</th>\n",
       "      <th>bikeid</th>\n",
       "      <th>usertype</th>\n",
       "      <th>birth year</th>\n",
       "      <th>gender</th>\n",
       "      <th>date</th>\n",
       "      <th>ageM</th>\n",
       "      <th>ageF</th>\n",
       "    </tr>\n",
       "  </thead>\n",
       "  <tbody>\n",
       "    <tr>\n",
       "      <th>0</th>\n",
       "      <td>1346</td>\n",
       "      <td>1/1/2015 0:01</td>\n",
       "      <td>1/1/2015 0:24</td>\n",
       "      <td>455</td>\n",
       "      <td>1 Ave &amp; E 44 St</td>\n",
       "      <td>40.750020</td>\n",
       "      <td>-73.969053</td>\n",
       "      <td>265</td>\n",
       "      <td>Stanton St &amp; Chrystie St</td>\n",
       "      <td>40.722293</td>\n",
       "      <td>-73.991475</td>\n",
       "      <td>18660</td>\n",
       "      <td>Subscriber</td>\n",
       "      <td>1960</td>\n",
       "      <td>2</td>\n",
       "      <td>2015-01-01 00:01:00</td>\n",
       "      <td>NaN</td>\n",
       "      <td>55</td>\n",
       "    </tr>\n",
       "    <tr>\n",
       "      <th>1</th>\n",
       "      <td>363</td>\n",
       "      <td>1/1/2015 0:02</td>\n",
       "      <td>1/1/2015 0:08</td>\n",
       "      <td>434</td>\n",
       "      <td>9 Ave &amp; W 18 St</td>\n",
       "      <td>40.743174</td>\n",
       "      <td>-74.003664</td>\n",
       "      <td>482</td>\n",
       "      <td>W 15 St &amp; 7 Ave</td>\n",
       "      <td>40.739355</td>\n",
       "      <td>-73.999318</td>\n",
       "      <td>16085</td>\n",
       "      <td>Subscriber</td>\n",
       "      <td>1963</td>\n",
       "      <td>1</td>\n",
       "      <td>2015-01-01 00:02:00</td>\n",
       "      <td>52</td>\n",
       "      <td>NaN</td>\n",
       "    </tr>\n",
       "    <tr>\n",
       "      <th>2</th>\n",
       "      <td>346</td>\n",
       "      <td>1/1/2015 0:04</td>\n",
       "      <td>1/1/2015 0:10</td>\n",
       "      <td>491</td>\n",
       "      <td>E 24 St &amp; Park Ave S</td>\n",
       "      <td>40.740964</td>\n",
       "      <td>-73.986022</td>\n",
       "      <td>505</td>\n",
       "      <td>6 Ave &amp; W 33 St</td>\n",
       "      <td>40.749013</td>\n",
       "      <td>-73.988484</td>\n",
       "      <td>20845</td>\n",
       "      <td>Subscriber</td>\n",
       "      <td>1974</td>\n",
       "      <td>1</td>\n",
       "      <td>2015-01-01 00:04:00</td>\n",
       "      <td>41</td>\n",
       "      <td>NaN</td>\n",
       "    </tr>\n",
       "    <tr>\n",
       "      <th>3</th>\n",
       "      <td>182</td>\n",
       "      <td>1/1/2015 0:04</td>\n",
       "      <td>1/1/2015 0:07</td>\n",
       "      <td>384</td>\n",
       "      <td>Fulton St &amp; Waverly Ave</td>\n",
       "      <td>40.683178</td>\n",
       "      <td>-73.965964</td>\n",
       "      <td>399</td>\n",
       "      <td>Lafayette Ave &amp; St James Pl</td>\n",
       "      <td>40.688515</td>\n",
       "      <td>-73.964763</td>\n",
       "      <td>19610</td>\n",
       "      <td>Subscriber</td>\n",
       "      <td>1969</td>\n",
       "      <td>1</td>\n",
       "      <td>2015-01-01 00:04:00</td>\n",
       "      <td>46</td>\n",
       "      <td>NaN</td>\n",
       "    </tr>\n",
       "    <tr>\n",
       "      <th>4</th>\n",
       "      <td>969</td>\n",
       "      <td>1/1/2015 0:05</td>\n",
       "      <td>1/1/2015 0:21</td>\n",
       "      <td>474</td>\n",
       "      <td>5 Ave &amp; E 29 St</td>\n",
       "      <td>40.745168</td>\n",
       "      <td>-73.986831</td>\n",
       "      <td>432</td>\n",
       "      <td>E 7 St &amp; Avenue A</td>\n",
       "      <td>40.726218</td>\n",
       "      <td>-73.983799</td>\n",
       "      <td>20197</td>\n",
       "      <td>Subscriber</td>\n",
       "      <td>1977</td>\n",
       "      <td>1</td>\n",
       "      <td>2015-01-01 00:05:00</td>\n",
       "      <td>38</td>\n",
       "      <td>NaN</td>\n",
       "    </tr>\n",
       "  </tbody>\n",
       "</table>\n",
       "</div>"
      ],
      "text/plain": [
       "   tripduration      starttime       stoptime  start station id  \\\n",
       "0          1346  1/1/2015 0:01  1/1/2015 0:24               455   \n",
       "1           363  1/1/2015 0:02  1/1/2015 0:08               434   \n",
       "2           346  1/1/2015 0:04  1/1/2015 0:10               491   \n",
       "3           182  1/1/2015 0:04  1/1/2015 0:07               384   \n",
       "4           969  1/1/2015 0:05  1/1/2015 0:21               474   \n",
       "\n",
       "        start station name  start station latitude  start station longitude  \\\n",
       "0          1 Ave & E 44 St               40.750020               -73.969053   \n",
       "1          9 Ave & W 18 St               40.743174               -74.003664   \n",
       "2     E 24 St & Park Ave S               40.740964               -73.986022   \n",
       "3  Fulton St & Waverly Ave               40.683178               -73.965964   \n",
       "4          5 Ave & E 29 St               40.745168               -73.986831   \n",
       "\n",
       "   end station id             end station name  end station latitude  \\\n",
       "0             265     Stanton St & Chrystie St             40.722293   \n",
       "1             482              W 15 St & 7 Ave             40.739355   \n",
       "2             505              6 Ave & W 33 St             40.749013   \n",
       "3             399  Lafayette Ave & St James Pl             40.688515   \n",
       "4             432            E 7 St & Avenue A             40.726218   \n",
       "\n",
       "   end station longitude  bikeid    usertype  birth year  gender  \\\n",
       "0             -73.991475   18660  Subscriber        1960       2   \n",
       "1             -73.999318   16085  Subscriber        1963       1   \n",
       "2             -73.988484   20845  Subscriber        1974       1   \n",
       "3             -73.964763   19610  Subscriber        1969       1   \n",
       "4             -73.983799   20197  Subscriber        1977       1   \n",
       "\n",
       "                 date  ageM  ageF  \n",
       "0 2015-01-01 00:01:00   NaN    55  \n",
       "1 2015-01-01 00:02:00    52   NaN  \n",
       "2 2015-01-01 00:04:00    41   NaN  \n",
       "3 2015-01-01 00:04:00    46   NaN  \n",
       "4 2015-01-01 00:05:00    38   NaN  "
      ]
     },
     "execution_count": 7,
     "metadata": {},
     "output_type": "execute_result"
    }
   ],
   "source": [
    "#dropping some data I no longer need\n",
    "#... your code here...\n",
    "df.head()"
   ]
  },
  {
   "cell_type": "code",
   "execution_count": 7,
   "metadata": {
    "ExecuteTime": {
     "end_time": "2017-10-05T16:55:03.392271",
     "start_time": "2017-10-05T16:55:02.902521"
    },
    "collapsed": false,
    "run_control": {
     "frozen": false,
     "read_only": false
    }
   },
   "outputs": [
    {
     "data": {
      "text/html": [
       "<div>\n",
       "<table border=\"1\" class=\"dataframe\">\n",
       "  <thead>\n",
       "    <tr style=\"text-align: right;\">\n",
       "      <th></th>\n",
       "      <th>tripduration</th>\n",
       "      <th>start station id</th>\n",
       "      <th>start station latitude</th>\n",
       "      <th>start station longitude</th>\n",
       "      <th>end station id</th>\n",
       "      <th>end station latitude</th>\n",
       "      <th>end station longitude</th>\n",
       "      <th>bikeid</th>\n",
       "      <th>birth year</th>\n",
       "      <th>gender</th>\n",
       "      <th>ageM</th>\n",
       "      <th>ageF</th>\n",
       "    </tr>\n",
       "  </thead>\n",
       "  <tbody>\n",
       "    <tr>\n",
       "      <th>count</th>\n",
       "      <td>285552.000000</td>\n",
       "      <td>285552.000000</td>\n",
       "      <td>285552.000000</td>\n",
       "      <td>285552.000000</td>\n",
       "      <td>285552.000000</td>\n",
       "      <td>285552.000000</td>\n",
       "      <td>285552.000000</td>\n",
       "      <td>285552.000000</td>\n",
       "      <td>279924.000000</td>\n",
       "      <td>285552.000000</td>\n",
       "      <td>227764.000000</td>\n",
       "      <td>52093.000000</td>\n",
       "    </tr>\n",
       "    <tr>\n",
       "      <th>mean</th>\n",
       "      <td>654.325583</td>\n",
       "      <td>443.535006</td>\n",
       "      <td>40.735804</td>\n",
       "      <td>-73.990177</td>\n",
       "      <td>440.337557</td>\n",
       "      <td>40.735607</td>\n",
       "      <td>-73.990398</td>\n",
       "      <td>18147.291481</td>\n",
       "      <td>1974.951419</td>\n",
       "      <td>1.162485</td>\n",
       "      <td>40.305272</td>\n",
       "      <td>38.951145</td>\n",
       "    </tr>\n",
       "    <tr>\n",
       "      <th>std</th>\n",
       "      <td>900.775928</td>\n",
       "      <td>332.580265</td>\n",
       "      <td>0.018773</td>\n",
       "      <td>0.011681</td>\n",
       "      <td>326.010259</td>\n",
       "      <td>0.018718</td>\n",
       "      <td>0.011742</td>\n",
       "      <td>2065.313794</td>\n",
       "      <td>11.574637</td>\n",
       "      <td>0.419490</td>\n",
       "      <td>11.595240</td>\n",
       "      <td>11.405112</td>\n",
       "    </tr>\n",
       "    <tr>\n",
       "      <th>min</th>\n",
       "      <td>60.000000</td>\n",
       "      <td>72.000000</td>\n",
       "      <td>40.680342</td>\n",
       "      <td>-74.017134</td>\n",
       "      <td>72.000000</td>\n",
       "      <td>40.680342</td>\n",
       "      <td>-74.017134</td>\n",
       "      <td>14529.000000</td>\n",
       "      <td>1899.000000</td>\n",
       "      <td>0.000000</td>\n",
       "      <td>16.000000</td>\n",
       "      <td>17.000000</td>\n",
       "    </tr>\n",
       "    <tr>\n",
       "      <th>25%</th>\n",
       "      <td>334.000000</td>\n",
       "      <td>308.000000</td>\n",
       "      <td>40.723627</td>\n",
       "      <td>-73.998102</td>\n",
       "      <td>307.000000</td>\n",
       "      <td>40.723180</td>\n",
       "      <td>-73.998522</td>\n",
       "      <td>16355.000000</td>\n",
       "      <td>1967.000000</td>\n",
       "      <td>1.000000</td>\n",
       "      <td>31.000000</td>\n",
       "      <td>30.000000</td>\n",
       "    </tr>\n",
       "    <tr>\n",
       "      <th>50%</th>\n",
       "      <td>504.000000</td>\n",
       "      <td>417.000000</td>\n",
       "      <td>40.738274</td>\n",
       "      <td>-73.990093</td>\n",
       "      <td>417.000000</td>\n",
       "      <td>40.737815</td>\n",
       "      <td>-73.990617</td>\n",
       "      <td>18148.000000</td>\n",
       "      <td>1977.000000</td>\n",
       "      <td>1.000000</td>\n",
       "      <td>39.000000</td>\n",
       "      <td>37.000000</td>\n",
       "    </tr>\n",
       "    <tr>\n",
       "      <th>75%</th>\n",
       "      <td>772.000000</td>\n",
       "      <td>492.000000</td>\n",
       "      <td>40.750450</td>\n",
       "      <td>-73.981854</td>\n",
       "      <td>492.000000</td>\n",
       "      <td>40.750200</td>\n",
       "      <td>-73.981854</td>\n",
       "      <td>19903.000000</td>\n",
       "      <td>1984.000000</td>\n",
       "      <td>1.000000</td>\n",
       "      <td>48.000000</td>\n",
       "      <td>48.000000</td>\n",
       "    </tr>\n",
       "    <tr>\n",
       "      <th>max</th>\n",
       "      <td>43023.000000</td>\n",
       "      <td>3002.000000</td>\n",
       "      <td>40.771522</td>\n",
       "      <td>-73.950048</td>\n",
       "      <td>3002.000000</td>\n",
       "      <td>40.771522</td>\n",
       "      <td>-73.950048</td>\n",
       "      <td>21690.000000</td>\n",
       "      <td>1999.000000</td>\n",
       "      <td>2.000000</td>\n",
       "      <td>116.000000</td>\n",
       "      <td>89.000000</td>\n",
       "    </tr>\n",
       "  </tbody>\n",
       "</table>\n",
       "</div>"
      ],
      "text/plain": [
       "        tripduration  start station id  start station latitude  \\\n",
       "count  285552.000000     285552.000000           285552.000000   \n",
       "mean      654.325583        443.535006               40.735804   \n",
       "std       900.775928        332.580265                0.018773   \n",
       "min        60.000000         72.000000               40.680342   \n",
       "25%       334.000000        308.000000               40.723627   \n",
       "50%       504.000000        417.000000               40.738274   \n",
       "75%       772.000000        492.000000               40.750450   \n",
       "max     43023.000000       3002.000000               40.771522   \n",
       "\n",
       "       start station longitude  end station id  end station latitude  \\\n",
       "count            285552.000000   285552.000000         285552.000000   \n",
       "mean                -73.990177      440.337557             40.735607   \n",
       "std                   0.011681      326.010259              0.018718   \n",
       "min                 -74.017134       72.000000             40.680342   \n",
       "25%                 -73.998102      307.000000             40.723180   \n",
       "50%                 -73.990093      417.000000             40.737815   \n",
       "75%                 -73.981854      492.000000             40.750200   \n",
       "max                 -73.950048     3002.000000             40.771522   \n",
       "\n",
       "       end station longitude         bikeid     birth year         gender  \\\n",
       "count          285552.000000  285552.000000  279924.000000  285552.000000   \n",
       "mean              -73.990398   18147.291481    1974.951419       1.162485   \n",
       "std                 0.011742    2065.313794      11.574637       0.419490   \n",
       "min               -74.017134   14529.000000    1899.000000       0.000000   \n",
       "25%               -73.998522   16355.000000    1967.000000       1.000000   \n",
       "50%               -73.990617   18148.000000    1977.000000       1.000000   \n",
       "75%               -73.981854   19903.000000    1984.000000       1.000000   \n",
       "max               -73.950048   21690.000000    1999.000000       2.000000   \n",
       "\n",
       "                ageM          ageF  \n",
       "count  227764.000000  52093.000000  \n",
       "mean       40.305272     38.951145  \n",
       "std        11.595240     11.405112  \n",
       "min        16.000000     17.000000  \n",
       "25%        31.000000     30.000000  \n",
       "50%        39.000000     37.000000  \n",
       "75%        48.000000     48.000000  \n",
       "max       116.000000     89.000000  "
      ]
     },
     "execution_count": 7,
     "metadata": {},
     "output_type": "execute_result"
    }
   ],
   "source": [
    "#your df should look something like this\n",
    "# look at these data carefully... you may see someinteresting values!\n",
    "df.describe()"
   ]
  },
  {
   "cell_type": "code",
   "execution_count": 8,
   "metadata": {
    "ExecuteTime": {
     "end_time": "2017-10-05T16:55:05.649685",
     "start_time": "2017-10-05T16:55:05.635796"
    },
    "collapsed": false,
    "run_control": {
     "frozen": false,
     "read_only": false
    }
   },
   "outputs": [],
   "source": [
    "# dropping NaN values\n",
    "df['ageM'].dropna(inplace= True)\n",
    "df['ageF'].dropna(inplace= True)"
   ]
  },
  {
   "cell_type": "markdown",
   "metadata": {
    "run_control": {
     "frozen": false,
     "read_only": false
    }
   },
   "source": [
    "lets split age in 10 year bins. the dataset is very large, so i could be split in smaller bins, but I will chose 10 years in the interest of time. \n",
    "the bin size choice should be a balance between properly sample the age space, have enough counts in each bin that the statistical noise is not significant (remember that is > sqrt(N)!) and the computational requirement to computatinal facilities ratio. "
   ]
  },
  {
   "cell_type": "markdown",
   "metadata": {
    "run_control": {
     "frozen": false,
     "read_only": false
    }
   },
   "source": [
    "the next several steps are needed if you want to code up the KS test from scratch. that is for extra credit, so if you do not want to do it you may not need to plot split the distribution in bins and create the cumulative HOWEVER it is a great idea to do it anyways to explore your data viaually! remember Ascombe's quartet!!"
   ]
  },
  {
   "cell_type": "code",
   "execution_count": 10,
   "metadata": {
    "ExecuteTime": {
     "end_time": "2017-10-05T16:55:21.602238",
     "start_time": "2017-10-05T16:55:20.487384"
    },
    "collapsed": false,
    "run_control": {
     "frozen": false,
     "read_only": false
    }
   },
   "outputs": [
    {
     "data": {
      "image/png": "[encoded data removed]",
      "text/plain": [
       "<matplotlib.figure.Figure at 0x10ccbd110>"
      ]
     },
     "metadata": {},
     "output_type": "display_data"
    },
    {
     "data": {
      "image/png": "[encoded data removed]",
      "text/plain": [
       "<matplotlib.figure.Figure at 0x10cc82d50>"
      ]
     },
     "metadata": {},
     "output_type": "display_data"
    }
   ],
   "source": [
    "# plotting histogramswith pandas is a bitdifferent than with pylab\n",
    "# this is a VERY USEFUL syntaxfor you to knonw!\n",
    "bins = np.arange(10, 99, 5)\n",
    "axM = df.ageM.groupby(pd.cut(df.ageM, bins)).agg([count_nonzero]).plot(kind='bar', \n",
    "                                                                legend=False)\n",
    "axM.set_title(\"male riders\")\n",
    "axF = df.ageF.groupby(pd.cut(df.ageF, bins)).agg([count_nonzero]).plot(kind='bar',\n",
    "                                                                legend=False)\n",
    "axF.set_title(\"female riders\");\n"
   ]
  },
  {
   "cell_type": "markdown",
   "metadata": {
    "run_control": {
     "frozen": false,
     "read_only": false
    }
   },
   "source": [
    "**Figure 1: histogrammed distribution of riders' ages by gender **\n",
    "here is where you should have a nice caption that describes what I am looking at, why I am looking at it, and what I should notice"
   ]
  },
  {
   "cell_type": "markdown",
   "metadata": {
    "run_control": {
     "frozen": false,
     "read_only": false
    }
   },
   "source": [
    "this is how the cumulative distributions look like.  Notice that i am normalizing them! if i want to reat an observed distribution like a probablility distribution i have to normalize it"
   ]
  },
  {
   "cell_type": "code",
   "execution_count": 11,
   "metadata": {
    "collapsed": false,
    "run_control": {
     "frozen": false,
     "read_only": false
    },
    "scrolled": false
   },
   "outputs": [
    {
     "name": "stdout",
     "output_type": "stream",
     "text": [
      "          count_nonzero\n",
      "ageM                   \n",
      "(10, 15]            NaN\n",
      "(15, 20]       0.001657\n",
      "(20, 25]       0.010955\n",
      "(25, 30]       0.060955\n",
      "(30, 35]       0.065548\n",
      "(35, 40]       0.052146\n",
      "(40, 45]       0.031750\n",
      "(45, 50]       0.018657\n",
      "(50, 55]       0.011015\n",
      "(55, 60]       0.010957\n",
      "(60, 65]       0.008149\n",
      "(65, 70]       0.003203\n",
      "(70, 75]       0.000663\n",
      "(75, 80]       0.000188\n",
      "(80, 85]       0.000002\n",
      "(85, 90]            NaN\n",
      "(90, 95]            NaN\n"
     ]
    },
    {
     "data": {
      "text/plain": [
       "<matplotlib.legend.Legend at 0x11663d4e0>"
      ]
     },
     "execution_count": 11,
     "metadata": {},
     "output_type": "execute_result"
    },
    {
     "data": {
      "image/png": "[encoded data removed]",
      "text/plain": [
       "<matplotlib.figure.Figure at 0x1199a7908>"
      ]
     },
     "metadata": {},
     "output_type": "display_data"
    }
   ],
   "source": [
    "#print df.ageS, df.ageS.cumsum()\n",
    "\n",
    "csM=df.ageM.groupby(pd.cut(df.ageM, bins)).agg([count_nonzero]).cumsum()\n",
    "\n",
    "csF=df.ageF.groupby(pd.cut(df.ageF, bins)).agg([count_nonzero]).cumsum()\n",
    "\n",
    "print (np.abs(csM / csM.max()-csF / csF.max()))\n",
    "\n",
    "pl.plot(bins[:-1] + 5, csM / csM.max(), label = \"M\")\n",
    "pl.plot(bins[:-1] + 5, csF / csF.max(), label = \"F\")\n",
    "pl.plot(bins[:-1] + 5, np.sqrt(csF / csF.max() - csM / csM.max())**2, 'k-',\n",
    "        label = \"difference\")\n",
    "pl.xlabel(\"Age\")\n",
    "pl.ylabel(\"Normalized Cumulative Number\")\n",
    "pl.legend()"
   ]
  },
  {
   "cell_type": "markdown",
   "metadata": {
    "run_control": {
     "frozen": false,
     "read_only": false
    }
   },
   "source": [
    "** Figure 2: the cumulative distribution of CitiBike riders' ages by gender** ... [a good caption here]"
   ]
  },
  {
   "cell_type": "markdown",
   "metadata": {
    "run_control": {
     "frozen": false,
     "read_only": false
    }
   },
   "source": [
    "They look similar! But the difference gets to 10%. If I wanted to code the KS test by hand I woud have everything I need: the normalized cumulative distributions can be subtracted from each other and the max distance can calculated. \n",
    "\n",
    "Notice that there may be NaN values you are gonna have to deal with! \n",
    "You can do that for example with a Boolean statementsuch as  df.ageF[~np.isnan(df.ageF)] or you can use numpy functions that deal with Nan values: nansum, nanmean, nanstd..."
   ]
  },
  {
   "cell_type": "markdown",
   "metadata": {
    "run_control": {
     "frozen": false,
     "read_only": false
    }
   },
   "source": [
    "lets run the scipy KS test"
   ]
  },
  {
   "cell_type": "code",
   "execution_count": 12,
   "metadata": {
    "ExecuteTime": {
     "end_time": "2017-10-05T16:58:02.949986",
     "start_time": "2017-10-05T16:58:02.443596"
    },
    "collapsed": false,
    "run_control": {
     "frozen": false,
     "read_only": false
    },
    "scrolled": false
   },
   "outputs": [],
   "source": [
    "import scipy.stats\n",
    "#remember that your imports should all be at the top. I leave it here to hightlight that this package is needed at this point of the workflow"
   ]
  },
  {
   "cell_type": "markdown",
   "metadata": {
    "collapsed": true,
    "run_control": {
     "frozen": false,
     "read_only": false
    }
   },
   "source": [
    "# KS tests to compare 2 samples\n",
    "\n",
    "http://docs.scipy.org/doc/scipy-0.15.1/reference/generated/scipy.stats.ks_2samp.html\n",
    "\n",
    "the KS test in scipy returns the p-value BUT make sure you understand what the NULL is! read the documentation carefully! what is the null hypothesis that you can/cannot reject?"
   ]
  },
  {
   "cell_type": "code",
   "execution_count": 14,
   "metadata": {
    "ExecuteTime": {
     "end_time": "2017-10-05T16:58:13.968035",
     "start_time": "2017-10-05T16:58:13.899033"
    },
    "collapsed": false,
    "run_control": {
     "frozen": false,
     "read_only": false
    }
   },
   "outputs": [],
   "source": [
    "ks = scipy.stats.ks_2samp(df.ageM, df.ageF)\n",
    "#print (ks)"
   ]
  },
  {
   "cell_type": "markdown",
   "metadata": {
    "run_control": {
     "frozen": false,
     "read_only": false
    }
   },
   "source": [
    "**  FILL IN THE CELL BELOW!**"
   ]
  },
  {
   "cell_type": "code",
   "execution_count": 15,
   "metadata": {
    "ExecuteTime": {
     "end_time": "2017-10-05T16:58:24.751556",
     "start_time": "2017-10-05T16:58:24.747653"
    },
    "collapsed": true,
    "run_control": {
     "frozen": false,
     "read_only": false
    }
   },
   "outputs": [],
   "source": [
    "## your words here!...\n",
    "## this cell is for you to tell me what the scipy KS test returned and what it means in terms of NULL HYPOTHESIS\n",
    "## to do that refer to the scipy documentation to understand the output of the scipy.stats.ks_2samp function\n",
    "\n",
    "\n",
    "\n"
   ]
  },
  {
   "cell_type": "markdown",
   "metadata": {
    "run_control": {
     "frozen": false,
     "read_only": false
    }
   },
   "source": [
    "The scipy.stats KS test already tells me the significance and the p-value. \n",
    "\n",
    "The next few cells are here just to show you how you would obtain the same result by hand, but they are **not required**. \n",
    "\n",
    "Remember: the Null hypothesis is rejected if \n",
    "\n",
    "$D_KS(n1,n2) > c(\\alpha) \\sqrt{\\frac{(n1 + n2)}{n1n2}}$\n",
    "\n",
    "(see class notes) where $c(\\alpha$) is the inverse of the KS distribution, and you do not have to know how to get that cause there are tables that list critical values!! \n",
    "\n",
    "http://www.real-statistics.com/tests-normality-and-symmetry/statistical-tests-normality-symmetry/kolmogorov-smirnov-test/kolmogorov-distribution/\n",
    "\n",
    "But also this result depends in your choice of binning through, and thustheresultyou get by hand may not be exactly the same as the one the KS returns. Either way: this is how you would calculate the KS statistics by hand."
   ]
  },
  {
   "cell_type": "code",
   "execution_count": 16,
   "metadata": {
    "ExecuteTime": {
     "end_time": "2017-10-05T16:58:33.858841",
     "start_time": "2017-10-05T16:58:33.850240"
    },
    "collapsed": false,
    "run_control": {
     "frozen": false,
     "read_only": false
    }
   },
   "outputs": [
    {
     "data": {
      "image/png": "[encoded data removed]",
      "text/plain": [
       "<IPython.core.display.Image object>"
      ]
     },
     "execution_count": 16,
     "metadata": {},
     "output_type": "execute_result"
    }
   ],
   "source": [
    "#here is the critical values tablel. Have you chosen your significance level yet?? you should do it first thing!\n",
    "from IPython.display import Image\n",
    "Image(filename=\"../plotsforclasses/ks2sample_table.png\")"
   ]
  },
  {
   "cell_type": "code",
   "execution_count": 17,
   "metadata": {
    "ExecuteTime": {
     "end_time": "2017-10-05T16:58:45.489436",
     "start_time": "2017-10-05T16:58:45.483526"
    },
    "collapsed": true,
    "run_control": {
     "frozen": false,
     "read_only": false
    }
   },
   "outputs": [],
   "source": [
    "## your words here!...\n",
    "## this cell is for you to redo the test with reducted dataset \n",
    "## and tell me what the scipy ks test returned and what it means in terms of NULL HYPOTHESIS\n"
   ]
  },
  {
   "cell_type": "markdown",
   "metadata": {
    "run_control": {
     "frozen": false,
     "read_only": false
    }
   },
   "source": [
    "# Now retest using a test for correlation. \n",
    "\n",
    "That will answer a slightly different question though - formulate the NULL appropriately. The tests for correlations (generally) requires the variable to be paired, so that I can tell if x changes does y change similarly. But the datasets are of different size! You will need to reduce them to the same size. You can do that by subsampling of the data: take only 1 ride every of 200, which you can achieve \"slicing and broadcasting\" the array or using one of the python function (built in python numpy.random.choice() functions for example: Docstring:\n",
    "choice(a, size=None, replace=True, p=None)\n",
    "\n",
    "Generates a random sample from a given 1-D array\n",
    "\n",
    "        .. versionadded:: 1.7.0\n",
    "\n",
    "Parameters\n",
    "...\n",
    "\n",
    "But make sure you understand how to use it! there is an option \"replace\" which you should think about."
   ]
  },
  {
   "cell_type": "markdown",
   "metadata": {
    "run_control": {
     "frozen": false,
     "read_only": false
    }
   },
   "source": [
    "# Pearson's  test for correlation\n",
    "\n",
    "** notice that the Pearson's is a pairwise test: the samples need to be **\n",
    " a. the same size\n",
    " b. sorted! (how??)\n",
    "    \n",
    "http://docs.scipy.org/doc/scipy/reference/generated/scipy.stats.pearsonr.html#scipy.stats.pearsonr\n",
    "\n"
   ]
  },
  {
   "cell_type": "code",
   "execution_count": 18,
   "metadata": {
    "ExecuteTime": {
     "end_time": "2017-10-05T17:05:04.485128",
     "start_time": "2017-10-05T17:05:04.480928"
    },
    "collapsed": false,
    "run_control": {
     "frozen": false,
     "read_only": false
    }
   },
   "outputs": [],
   "source": [
    "# your code here!\n",
    "# wrangle the data as needed\n",
    "# please perform the Pearson's test \n",
    "# and tell me what you find in terms of NULL hypothesis\n",
    "\n"
   ]
  },
  {
   "cell_type": "markdown",
   "metadata": {
    "run_control": {
     "frozen": false,
     "read_only": false
    }
   },
   "source": [
    "# Spearman's  test for correlation\n",
    "\n",
    "http://docs.scipy.org/doc/scipy/reference/generated/scipy.stats.spearmanr.html#scipy.stats.spearmanr"
   ]
  },
  {
   "cell_type": "code",
   "execution_count": 19,
   "metadata": {
    "ExecuteTime": {
     "end_time": "2017-10-05T17:05:09.530148",
     "start_time": "2017-10-05T17:05:09.525214"
    },
    "collapsed": false,
    "run_control": {
     "frozen": false,
     "read_only": false
    }
   },
   "outputs": [],
   "source": [
    "# your code here!\n",
    "# wrangle the data as needed\n",
    "# please perform the Spearman's test and tell me what you find in terms of NULL hypothesis\n",
    "\n"
   ]
  },
  {
   "cell_type": "markdown",
   "metadata": {
    "run_control": {
     "frozen": false,
     "read_only": false
    }
   },
   "source": [
    "** please comment on the numbers that you get in the light of the scipy manual: what is rerutned? what does it mean??**"
   ]
  },
  {
   "cell_type": "code",
   "execution_count": null,
   "metadata": {
    "collapsed": true,
    "run_control": {
     "frozen": false,
     "read_only": false
    }
   },
   "outputs": [],
   "source": []
  }
 ],
 "metadata": {
  "anaconda-cloud": {},
  "kernelspec": {
   "display_name": "PUI2016_Python2",
   "language": "python",
   "name": "pui2016_python2"
  },
  "language_info": {
   "codemirror_mode": {
    "name": "ipython",
    "version": 2
   },
   "file_extension": ".py",
   "mimetype": "text/x-python",
   "name": "python",
   "nbconvert_exporter": "python",
   "pygments_lexer": "ipython2",
   "version": "2.7.12"
  },
  "latex_envs": {
   "LaTeX_envs_menu_present": true,
   "bibliofile": "biblio.bib",
   "cite_by": "apalike",
   "current_citInitial": 1,
   "eqLabelWithNumbers": true,
   "eqNumInitial": 1,
   "hotkeys": {
    "equation": "Ctrl-E",
    "itemize": "Ctrl-I"
   },
   "labels_anchors": false,
   "latex_user_defs": false,
   "report_style_numbering": false,
   "user_envs_cfg": false
  },
  "toc": {
   "colors": {
    "hover_highlight": "#DAA520",
    "running_highlight": "#FF0000",
    "selected_highlight": "#FFD700"
   },
   "moveMenuLeft": true,
   "nav_menu": {
    "height": "135px",
    "width": "251px"
   },
   "navigate_menu": true,
   "number_sections": true,
   "sideBar": true,
   "threshold": 4,
   "toc_cell": false,
   "toc_section_display": "block",
   "toc_window_display": false
  }
 },
 "nbformat": 4,
 "nbformat_minor": 0
}
